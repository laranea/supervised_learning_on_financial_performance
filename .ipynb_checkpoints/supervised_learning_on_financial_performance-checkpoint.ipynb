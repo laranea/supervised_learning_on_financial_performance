{
 "cells": [
  {
   "cell_type": "markdown",
   "metadata": {},
   "source": [
    "# Supervised learning on financial performance data\n",
    "\n",
    "## Transformation of the raw data\n",
    "\n",
    "The raw data is given in two different files (one with the ratios, the other one with the price data). Both of the files can be linked to one another by permno + date. So first one needs to combine those two, afterwards also several types of returns are calculated in regards to the later useage of the data. The final output of this section will be an output file, that contains all ratios, the prices and the returns as wanted by the user (1month return, 2month return, etc.)"
   ]
  },
  {
   "cell_type": "code",
   "execution_count": null,
   "metadata": {},
   "outputs": [],
   "source": []
  }
 ],
 "metadata": {
  "kernelspec": {
   "display_name": "Python 3",
   "language": "python",
   "name": "python3"
  },
  "language_info": {
   "codemirror_mode": {
    "name": "ipython",
    "version": 3
   },
   "file_extension": ".py",
   "mimetype": "text/x-python",
   "name": "python",
   "nbconvert_exporter": "python",
   "pygments_lexer": "ipython3",
   "version": "3.6.4"
  }
 },
 "nbformat": 4,
 "nbformat_minor": 2
}
