{
 "cells": [
  {
   "cell_type": "markdown",
   "metadata": {},
   "source": [
    "# Supervised learning on financial performance data\n",
    "\n",
    "## Transformation of the raw data\n",
    "\n",
    "The raw data is given in two different files (one with the ratios, the other one with the price data). Both of the files can be linked to one another by permno + date. So first one needs to combine those two, afterwards also several types of returns are calculated in regards to the later useage of the data. The final output of this section will be an output file, that contains all ratios, the prices and the returns as wanted by the user (1month return, 2month return, etc.)"
   ]
  },
  {
   "cell_type": "markdown",
   "metadata": {},
   "source": [
    "### Data import\n",
    "In the following cells the folder structure and dependencies are set up, afterwards the data is imported. Also the addition of price in the last column is performed."
   ]
  },
  {
   "cell_type": "code",
   "execution_count": 5,
   "metadata": {},
   "outputs": [],
   "source": [
    "#Setup of the folder-structure and dependencies\n",
    "import csv\n",
    "import os\n",
    "\n",
    "cwd = os.getcwd()\n",
    "\n",
    "data_type = 'real' #select 'real' or 'test' data\n",
    "\n",
    "#if folder structure is changed, please change here\n",
    "source1 = cwd + '/' + data_type + 'data/companylist.csv'\n",
    "source2 = cwd + '/' + data_type + 'data/ratios.csv'\n",
    "output_path = cwd + '/output/output.csv'"
   ]
  },
  {
   "cell_type": "code",
   "execution_count": 2,
   "metadata": {},
   "outputs": [],
   "source": [
    "#Import of the data and adding Price to the last column\n",
    "with open(source1, 'r') as fp:\n",
    "    reader = csv.reader(fp, delimiter=',', quotechar='\"')\n",
    "    company_list = [row for row in reader]\n",
    "\n",
    "with open(source2, 'r') as fp:\n",
    "    reader = csv.reader(fp, delimiter=',', quotechar='\"')\n",
    "    ratios = [row for row in reader]\n",
    "\n",
    "#Add PRC row to the table\n",
    "output = ratios #store in modifyable table to not corrupt inital values\n",
    "output[0].append(company_list[0][6]) #adds price header to list\n",
    "#loop through both tables\n",
    "for rowR in output:\n",
    "    for rowC in company_list:\n",
    "        if rowR[0] == rowC[0]: #company code must be the same\n",
    "            if rowC[1][3:] == rowR[3][3:]: #public_date(ratios) must be the same as date(companylist) only looking at month and year (publishing dates by actual day can differ)\n",
    "                rowR.append(rowC[6])"
   ]
  },
  {
   "cell_type": "markdown",
   "metadata": {},
   "source": [
    "### Definition of the transformation functions\n",
    "All needed transformation functions are defined in the following part."
   ]
  },
  {
   "cell_type": "code",
   "execution_count": 3,
   "metadata": {},
   "outputs": [],
   "source": [
    "#Store modified data in a .csv file, which can then be used for analysis\n",
    "def export_matrix_to_csv(output_path, matrix):\n",
    "    with open(output_path, \"w\") as csvfile:\n",
    "        writer = csv.writer(csvfile, lineterminator='\\n')\n",
    "        writer.writerows(matrix)\n",
    "    print('export done successfully')\n",
    "\n",
    "#transpose a matrix\n",
    "def transpose_matrix(matrix):\n",
    "    N = len(matrix)\n",
    "    C = len(matrix[0])\n",
    "    column_list = [[matrix[row][column] for row in range(N)] for column in range(C)]\n",
    "    return column_list\n",
    "\n",
    "#extracts a column from matrix with header = columnheader and returns it as an array\n",
    "def extract_column(matrix, columnheader):\n",
    "    i = 1\n",
    "    #calculates position in which the column with columnheader is located in the original matrix\n",
    "    for item in matrix[0]:\n",
    "        if item == columnheader:\n",
    "            column_position = i\n",
    "        i += 1\n",
    "    t_matrix = transpose_matrix(matrix)\n",
    "    column = t_matrix[column_position-1]\n",
    "    column = column[1:] #remove header\n",
    "    c_column = [float(numeric_string) for numeric_string in column] #convert string array into float array\n",
    "    return c_column\n",
    "\n",
    "#generates support array that consists of all transitions in the permno codes\n",
    "def get_support_array(matrix):\n",
    "    i = 0;\n",
    "    support_array = []\n",
    "    for row in matrix:\n",
    "        if row[0] != matrix[i-1][0]:\n",
    "            support_array.append(i)\n",
    "        i += 1\n",
    "    support_array.pop(0)\n",
    "    for item in support_array:\n",
    "        item += 0\n",
    "    return support_array\n",
    "\n",
    "#calculates a return of a given array (price) for a certain amount of months (basic value is one month return)\n",
    "def calculate_return(price,support_array, months = 1):\n",
    "    i = 0\n",
    "    z = -1\n",
    "    r3turn = []\n",
    "    r3turn.append('return' + str(months) + 'months')\n",
    "    while i in range(0,len(price)):\n",
    "        if i+1 in support_array or z in range(0,months):\n",
    "            r3turn.append('NaN')\n",
    "            if z == months-1:\n",
    "                z = -1\n",
    "            else:\n",
    "                z += 1\n",
    "        else:\n",
    "            r3turn.append((price[i]/price[i-months])-1)\n",
    "        i += 1\n",
    "    return r3turn\n",
    "\n",
    "#writes the return into the last column of output\n",
    "def add_return_to_output(r3turn, output):\n",
    "    i = 0\n",
    "    for row in output:\n",
    "        row.append(r3turn[i])\n",
    "        i += 1\n",
    "    return None\n"
   ]
  },
  {
   "cell_type": "markdown",
   "metadata": {},
   "source": [
    "### Performing the transformation\n",
    "Now since everything is set up the merging of the tables and the calculation of the wanted returns can be performed."
   ]
  },
  {
   "cell_type": "code",
   "execution_count": 4,
   "metadata": {},
   "outputs": [
    {
     "name": "stdout",
     "output_type": "stream",
     "text": [
      "export done successfully\n"
     ]
    }
   ],
   "source": [
    "#generation of support array\n",
    "support_array = get_support_array(ratios)\n",
    "#extraction of the price-data\n",
    "price = extract_column(ratios, 'PRC')\n",
    "#addition of all wanted returns, here: 1-12 month return\n",
    "for i in range(1,13):\n",
    "    add_return_to_output(calculate_return(price,support_array, i),output)\n",
    "\n",
    "#writing the derived table into the output file\n",
    "export_matrix_to_csv(output_path,output)"
   ]
  },
  {
   "cell_type": "code",
   "execution_count": null,
   "metadata": {},
   "outputs": [],
   "source": []
  }
 ],
 "metadata": {
  "kernelspec": {
   "display_name": "Python 3",
   "language": "python",
   "name": "python3"
  },
  "language_info": {
   "codemirror_mode": {
    "name": "ipython",
    "version": 3
   },
   "file_extension": ".py",
   "mimetype": "text/x-python",
   "name": "python",
   "nbconvert_exporter": "python",
   "pygments_lexer": "ipython3",
   "version": "3.6.4"
  }
 },
 "nbformat": 4,
 "nbformat_minor": 2
}
